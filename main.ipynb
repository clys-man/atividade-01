{
 "cells": [
  {
   "cell_type": "markdown",
   "id": "fb4fb833-c558-4f71-b2a7-a81f251cedc9",
   "metadata": {},
   "source": [
    "# Atividade 01 - Construção e Analise de Algoritmos\n",
    "Aluno: Clysman Alves - 2220304\n",
    "____"
   ]
  },
  {
   "cell_type": "markdown",
   "id": "37d745f1",
   "metadata": {},
   "source": [
    "## Insertion Sort"
   ]
  },
  {
   "cell_type": "code",
   "execution_count": 7,
   "id": "b1bf959a",
   "metadata": {},
   "outputs": [
    {
     "name": "stdout",
     "output_type": "stream",
     "text": [
      "Array inicial: [12, 11, 13, 5, 6]\n",
      "Array ordenado pelo Insertion Sort: [5, 6, 11, 12, 13]\n"
     ]
    }
   ],
   "source": [
    "def insertion_sort(arr):\n",
    "    for i in range(1, len(arr)):\n",
    "        key = arr[i]\n",
    "        j = i - 1\n",
    "        while j >= 0 and key < arr[j]:\n",
    "            arr[j + 1] = arr[j]\n",
    "            j -= 1\n",
    "        arr[j + 1] = key\n",
    "\n",
    "arr = [12, 11, 13, 5, 6]\n",
    "print(\"Array inicial:\", arr)\n",
    "insertion_sort(arr)\n",
    "print(\"Array ordenado pelo Insertion Sort:\", arr)"
   ]
  },
  {
   "cell_type": "markdown",
   "id": "e575bd34",
   "metadata": {},
   "source": [
    "## Merge Sort"
   ]
  },
  {
   "cell_type": "code",
   "execution_count": 8,
   "id": "bb2f0b69",
   "metadata": {},
   "outputs": [
    {
     "name": "stdout",
     "output_type": "stream",
     "text": [
      "Array inicial: [12, 11, 13, 5, 6, 7]\n",
      "Array ordenado pelo Merge Sort: [5, 6, 7, 11, 12, 13]\n"
     ]
    }
   ],
   "source": [
    "def merge_sort(arr):\n",
    "    if len(arr) > 1:\n",
    "        mid = len(arr) // 2\n",
    "        left_half = arr[:mid]\n",
    "        right_half = arr[mid:]\n",
    "\n",
    "        merge_sort(left_half)\n",
    "        merge_sort(right_half)\n",
    "\n",
    "        merge(arr, left_half, right_half)\n",
    "\n",
    "\n",
    "def merge(arr, left_half, right_half):\n",
    "    i = j = k = 0\n",
    "\n",
    "    while i < len(left_half) and j < len(right_half):\n",
    "        if left_half[i] < right_half[j]:\n",
    "            arr[k] = left_half[i]\n",
    "            i += 1\n",
    "        else:\n",
    "            arr[k] = right_half[j]\n",
    "            j += 1\n",
    "        k += 1\n",
    "\n",
    "    while i < len(left_half):\n",
    "        arr[k] = left_half[i]\n",
    "        i += 1\n",
    "        k += 1\n",
    "\n",
    "    while j < len(right_half):\n",
    "        arr[k] = right_half[j]\n",
    "        j += 1\n",
    "        k += 1\n",
    "\n",
    "\n",
    "# Exemplo de uso:\n",
    "arr = [12, 11, 13, 5, 6, 7]\n",
    "print(\"Array inicial:\", arr)\n",
    "merge_sort(arr)\n",
    "print(\"Array ordenado pelo Merge Sort:\", arr)\n"
   ]
  },
  {
   "cell_type": "markdown",
   "id": "c5295bd0",
   "metadata": {},
   "source": [
    "## Bubble Sort"
   ]
  },
  {
   "cell_type": "code",
   "execution_count": 9,
   "id": "f4076395",
   "metadata": {},
   "outputs": [
    {
     "name": "stdout",
     "output_type": "stream",
     "text": [
      "Array inicial: [64, 34, 25, 12, 22, 11, 90]\n",
      "Array ordenado pelo Bubble Sort: [11, 12, 22, 25, 34, 64, 90]\n"
     ]
    }
   ],
   "source": [
    "def bubble_sort(arr):\n",
    "    n = len(arr)\n",
    "\n",
    "    for i in range(n):\n",
    "        for j in range(0, n - i - 1):\n",
    "            if arr[j] > arr[j + 1]:\n",
    "                arr[j], arr[j + 1] = arr[j + 1], arr[j]\n",
    "\n",
    "arr = [64, 34, 25, 12, 22, 11, 90]\n",
    "print(\"Array inicial:\", arr)\n",
    "bubble_sort(arr)\n",
    "print(\"Array ordenado pelo Bubble Sort:\", arr)"
   ]
  }
 ],
 "metadata": {
  "kernelspec": {
   "display_name": "Python 3 (ipykernel)",
   "language": "python",
   "name": "python3"
  },
  "language_info": {
   "codemirror_mode": {
    "name": "ipython",
    "version": 3
   },
   "file_extension": ".py",
   "mimetype": "text/x-python",
   "name": "python",
   "nbconvert_exporter": "python",
   "pygments_lexer": "ipython3",
   "version": "3.12.2"
  }
 },
 "nbformat": 4,
 "nbformat_minor": 5
}
